{
 "cells": [
  {
   "cell_type": "markdown",
   "id": "bbb69852",
   "metadata": {},
   "source": [
    "Write a program which will find all such numbers which are divisible by 7 but are not a multiple of 5, between 2000 and 3200 (both included).The numbers obtained should be printed in a comma-separated sequence on a single line."
   ]
  },
  {
   "cell_type": "code",
   "execution_count": 2,
   "id": "58426be7",
   "metadata": {},
   "outputs": [
    {
     "name": "stdout",
     "output_type": "stream",
     "text": [
      "2002,2009,2016,2023,2037,2044,2051,2058,2072,2079,2086,2093,2107,2114,2121,2128,2142,2149,2156,2163,2177,2184,2191,2198,2212,2219,2226,2233,2247,2254,2261,2268,2282,2289,2296,2303,2317,2324,2331,2338,2352,2359,2366,2373,2387,2394,2401,2408,2422,2429,2436,2443,2457,2464,2471,2478,2492,2499,2506,2513,2527,2534,2541,2548,2562,2569,2576,2583,2597,2604,2611,2618,2632,2639,2646,2653,2667,2674,2681,2688,2702,2709,2716,2723,2737,2744,2751,2758,2772,2779,2786,2793,2807,2814,2821,2828,2842,2849,2856,2863,2877,2884,2891,2898,2912,2919,2926,2933,2947,2954,2961,2968,2982,2989,2996,3003,3017,3024,3031,3038,3052,3059,3066,3073,3087,3094,3101,3108,3122,3129,3136,3143,3157,3164,3171,3178,3192,3199,"
     ]
    }
   ],
   "source": [
    "#l = []\n",
    "for i in range(2000,3201):\n",
    "    if (i%7==0) and (i%5!=0):\n",
    "        #l.append(str(i))\n",
    "        print(i,end=',')\n",
    "#print(','.join(l))"
   ]
  },
  {
   "cell_type": "code",
   "execution_count": 3,
   "id": "7bbdb6ff",
   "metadata": {},
   "outputs": [
    {
     "name": "stdout",
     "output_type": "stream",
     "text": [
      "2002,2009,2016,2023,2037,2044,2051,2058,2072,2079,2086,2093,2107,2114,2121,2128,2142,2149,2156,2163,2177,2184,2191,2198,2212,2219,2226,2233,2247,2254,2261,2268,2282,2289,2296,2303,2317,2324,2331,2338,2352,2359,2366,2373,2387,2394,2401,2408,2422,2429,2436,2443,2457,2464,2471,2478,2492,2499,2506,2513,2527,2534,2541,2548,2562,2569,2576,2583,2597,2604,2611,2618,2632,2639,2646,2653,2667,2674,2681,2688,2702,2709,2716,2723,2737,2744,2751,2758,2772,2779,2786,2793,2807,2814,2821,2828,2842,2849,2856,2863,2877,2884,2891,2898,2912,2919,2926,2933,2947,2954,2961,2968,2982,2989,2996,3003,3017,3024,3031,3038,3052,3059,3066,3073,3087,3094,3101,3108,3122,3129,3136,3143,3157,3164,3171,3178,3192,3199\n"
     ]
    }
   ],
   "source": [
    "print(*(i for i in range(2000, 3201) if i%7 == 0 and i%5 != 0), sep=\",\")\n"
   ]
  },
  {
   "cell_type": "markdown",
   "id": "3fc921e1",
   "metadata": {},
   "source": [
    "Write a program which can compute the factorial of a given numbers.The results should be printed in a comma-separated sequence on a single line.Suppose the following input is supplied to the program: 8 Then, the output should be:40320"
   ]
  },
  {
   "cell_type": "code",
   "execution_count": 8,
   "id": "a66e9ad2",
   "metadata": {},
   "outputs": [
    {
     "name": "stdout",
     "output_type": "stream",
     "text": [
      "5\n",
      "facitorical of 5 number is 120\n"
     ]
    }
   ],
   "source": [
    "def fact(x):\n",
    "    if x == 0:\n",
    "        return 1\n",
    "    return x * fact(x - 1)\n",
    "\n",
    "x = int(input())\n",
    "print('facitorical of {} number is {}'.format(x,fact(x)))"
   ]
  },
  {
   "cell_type": "code",
   "execution_count": 10,
   "id": "7cddfcc7",
   "metadata": {},
   "outputs": [
    {
     "name": "stdout",
     "output_type": "stream",
     "text": [
      "5\n",
      "facitorical of 5 number is 120\n"
     ]
    }
   ],
   "source": [
    "n = int(input()) #input() function takes input as string type\n",
    "                 #int() converts it to integer type\n",
    "fact = 1\n",
    "i = 1\n",
    "while i <= n:\n",
    "    fact = fact * i;\n",
    "    i = i + 1\n",
    "print('facitorical of {} number is {}'.format(n,fact))"
   ]
  },
  {
   "cell_type": "code",
   "execution_count": 11,
   "id": "5d26f179",
   "metadata": {},
   "outputs": [
    {
     "name": "stdout",
     "output_type": "stream",
     "text": [
      "7\n",
      "facitorical of 7 number is 5040\n"
     ]
    }
   ],
   "source": [
    "n = int(input()) #input() function takes input as string type\n",
    "                #int() converts it to integer type\n",
    "fact = 1\n",
    "for i in range(1,n+1):\n",
    "    fact = fact * i\n",
    "print('facitorical of {} number is {}'.format(n,fact))"
   ]
  },
  {
   "cell_type": "code",
   "execution_count": 12,
   "id": "e03f4d14",
   "metadata": {},
   "outputs": [
    {
     "name": "stdout",
     "output_type": "stream",
     "text": [
      "5\n",
      "120\n"
     ]
    }
   ],
   "source": [
    "\n",
    "n = int(input())\n",
    "def shortFact(x): return 1 if x <= 1 else x*shortFact(x-1)\n",
    "print('facitorical of {} number is {}'.format(n,fact))"
   ]
  },
  {
   "cell_type": "markdown",
   "id": "412426b2",
   "metadata": {},
   "source": [
    "With a given integral number n, write a program to generate a dictionary that contains (i, i x i) such that is an integral number between 1 and n (both included). and then the program should print the dictionary.Suppose the following input is supplied to the program: 8\n",
    "\n",
    "Then, the output should be:\n",
    "\n",
    "{1: 1, 2: 4, 3: 9, 4: 16, 5: 25, 6: 36, 7: 49, 8: 64}"
   ]
  },
  {
   "cell_type": "code",
   "execution_count": 14,
   "id": "2f3257a9",
   "metadata": {},
   "outputs": [
    {
     "name": "stdout",
     "output_type": "stream",
     "text": [
      "8\n",
      "{1: 1, 2: 4, 3: 9, 4: 16, 5: 25, 6: 36, 7: 49, 8: 64}\n"
     ]
    }
   ],
   "source": [
    "n = int(input())\n",
    "d = dict()\n",
    "for i in range(1,n+1):\n",
    "    d[i] = i * i\n",
    "print(d)"
   ]
  },
  {
   "cell_type": "code",
   "execution_count": 15,
   "id": "2142a06f",
   "metadata": {},
   "outputs": [
    {
     "name": "stdout",
     "output_type": "stream",
     "text": [
      "4\n",
      "{1: 1, 2: 4, 3: 9, 4: 16}\n"
     ]
    }
   ],
   "source": [
    "n = int(input())\n",
    "ans={i : i*i for i in range(1,n+1)}\n",
    "print(ans)"
   ]
  },
  {
   "cell_type": "code",
   "execution_count": 20,
   "id": "ad6d4e00",
   "metadata": {},
   "outputs": [
    {
     "name": "stdout",
     "output_type": "stream",
     "text": [
      "Enter a number: 7\n",
      "{1: 1, 2: 4, 3: 9, 4: 16, 5: 25, 6: 36, 7: 49}\n"
     ]
    }
   ],
   "source": [
    "try:\n",
    "    num = int(input(\"Enter a number: \"))\n",
    "except ValueError as err:\n",
    "    print(err)\n",
    "\n",
    "dictio = dict()\n",
    "for item in range(num+1):\n",
    "    if item == 0:\n",
    "        continue\n",
    "    else:\n",
    "        dictio[item] = item * item\n",
    "print(dictio)"
   ]
  },
  {
   "cell_type": "code",
   "execution_count": 21,
   "id": "c3aa44af",
   "metadata": {},
   "outputs": [
    {
     "name": "stdout",
     "output_type": "stream",
     "text": [
      "Number: 5\n",
      "{1: 1, 2: 4, 3: 9, 4: 16, 5: 25}\n"
     ]
    }
   ],
   "source": [
    "num = int(input(\"Number: \"))\n",
    "print(dict(enumerate([i*i for i in range(1, num+1)], 1)))"
   ]
  },
  {
   "cell_type": "markdown",
   "id": "50846e62",
   "metadata": {},
   "source": [
    "Write a program which accepts a sequence of comma-separated numbers from console and generate a list and a tuple which contains every number.Suppose the following input is supplied to the program:"
   ]
  },
  {
   "cell_type": "code",
   "execution_count": 25,
   "id": "26ccc6c8",
   "metadata": {},
   "outputs": [
    {
     "name": "stdout",
     "output_type": "stream",
     "text": [
      "34,67,55,33,12,98\n",
      "['34', '67', '55', '33', '12', '98']\n",
      "('34', '67', '55', '33', '12', '98')\n"
     ]
    }
   ],
   "source": [
    "values = input()\n",
    "l = values.split(\",\")\n",
    "t = tuple(l)\n",
    "print(l)\n",
    "print(t)"
   ]
  },
  {
   "cell_type": "code",
   "execution_count": 26,
   "id": "1d71c447",
   "metadata": {},
   "outputs": [
    {
     "name": "stdout",
     "output_type": "stream",
     "text": [
      "1,5,2,6,3,4,5\n",
      "['1', '5', '2', '6', '3', '4', '5']\n",
      "('1', '5', '2', '6', '3', '4', '5')\n"
     ]
    }
   ],
   "source": [
    "lst = input().split(',')  # the input is being taken as string and as it is string it has a built in\n",
    "                          # method name split. ',' inside split function does split where it finds any ','\n",
    "                          # and save the input as list in lst variable\n",
    "\n",
    "tpl = tuple(lst)          # tuple method converts list to tuple\n",
    "\n",
    "print(lst)\n",
    "print(tpl)\n"
   ]
  },
  {
   "cell_type": "code",
   "execution_count": 27,
   "id": "56494095",
   "metadata": {},
   "outputs": [
    {
     "name": "stdout",
     "output_type": "stream",
     "text": [
      "Enter a series of numbers separated by a comma :1,5,2,6,3,4,5\n",
      "('1', '5', '2', '6', '3', '4', '5')\n"
     ]
    }
   ],
   "source": [
    "print(tuple(input(\"Enter a series of numbers separated by a comma :\").split(',')))\n"
   ]
  },
  {
   "cell_type": "markdown",
   "id": "9795dd59",
   "metadata": {},
   "source": [
    "Define a class which has at least two methods:\n",
    "\n",
    "getString: to get a string from console input\n",
    "printString: to print the string in upper case.\n",
    "Also please include simple test function to test the class methods."
   ]
  },
  {
   "cell_type": "code",
   "execution_count": 29,
   "id": "537f4d95",
   "metadata": {},
   "outputs": [
    {
     "name": "stdout",
     "output_type": "stream",
     "text": [
      "Ganesh Bhaleakr\n",
      "GANESH BHALEAKR\n"
     ]
    }
   ],
   "source": [
    "class InputOutString():\n",
    "    def get_str(self):\n",
    "        self.s = input()\n",
    "    def print_str(self):\n",
    "        print(self.s.upper())\n",
    "        \n",
    "a = InputOutString()\n",
    "a.get_str()\n",
    "a.print_str()"
   ]
  },
  {
   "cell_type": "markdown",
   "id": "0d527554",
   "metadata": {},
   "source": [
    "_Write a program which takes 2 digits, X,Y as input and generates a 2-dimensional array. The element value in the i-th row and j-th column of the array should be i _ j.*\n",
    "\n",
    "Note: i=0,1.., X-1; j=0,1,¡­Y-1. Suppose the following inputs are given to the program: 3,5\n",
    "\n",
    "Then, the output of the program should be:\n",
    "\n",
    "[[0, 0, 0, 0, 0], [0, 1, 2, 3, 4], [0, 2, 4, 6, 8]]"
   ]
  },
  {
   "cell_type": "code",
   "execution_count": 30,
   "id": "a5b8a465",
   "metadata": {},
   "outputs": [
    {
     "name": "stdout",
     "output_type": "stream",
     "text": [
      "3,5\n"
     ]
    },
    {
     "data": {
      "text/plain": [
       "[[0, 0, 0, 0, 0], [0, 1, 2, 3, 4], [0, 2, 4, 6, 8]]"
      ]
     },
     "execution_count": 30,
     "metadata": {},
     "output_type": "execute_result"
    }
   ],
   "source": [
    "x,y = map(int,input().split(','))\n",
    "ls = []\n",
    "\n",
    "for i in range(x):\n",
    "    tmp = []\n",
    "    for j in range(y):\n",
    "        tmp.append(i*j)\n",
    "    ls.append(tmp)\n",
    "ls"
   ]
  },
  {
   "cell_type": "code",
   "execution_count": 31,
   "id": "2dd055be",
   "metadata": {},
   "outputs": [
    {
     "name": "stdout",
     "output_type": "stream",
     "text": [
      "4,5\n",
      "[[0, 0, 0, 0, 0], [0, 1, 2, 3, 4], [0, 2, 4, 6, 8], [0, 3, 6, 9, 12]]\n"
     ]
    }
   ],
   "source": [
    "x,y = map(int,input().split(','))\n",
    "lst = [[i*j for j in range(y)] for i in range(x)]\n",
    "print(lst)"
   ]
  },
  {
   "cell_type": "markdown",
   "id": "f012959b",
   "metadata": {},
   "source": [
    "Write a program that accepts a comma separated sequence of words as input and prints the words in a comma-separated sequence after sorting them alphabetically.\n",
    "\n",
    "Suppose the following input is supplied to the program:\n",
    "\n",
    "without,hello,bag,world\n",
    "Then, the output should be:\n",
    "\n",
    "bag,hello,without,world"
   ]
  },
  {
   "cell_type": "code",
   "execution_count": 32,
   "id": "d19b35eb",
   "metadata": {},
   "outputs": [
    {
     "name": "stdout",
     "output_type": "stream",
     "text": [
      "without,hello,bag,world\n",
      "bag,hello,without,world\n"
     ]
    }
   ],
   "source": [
    "lst = input().split(',')\n",
    "lst.sort()\n",
    "print(\",\".join(lst))"
   ]
  },
  {
   "cell_type": "code",
   "execution_count": 33,
   "id": "c81e4e93",
   "metadata": {},
   "outputs": [
    {
     "name": "stdout",
     "output_type": "stream",
     "text": [
      "a,gf,r,y,e\n",
      "a,e,gf,r,y\n"
     ]
    }
   ],
   "source": [
    "items = [x for x in input().split(',')]\n",
    "items.sort()\n",
    "print(','.join(items))"
   ]
  },
  {
   "cell_type": "code",
   "execution_count": 35,
   "id": "e6526f94",
   "metadata": {},
   "outputs": [
    {
     "name": "stdout",
     "output_type": "stream",
     "text": [
      "Enter a comma separated string: without,hello,bag,world\n",
      "bag,hello,without,world\n"
     ]
    }
   ],
   "source": [
    "def my_func(e):\n",
    "    return e[0]\n",
    "\n",
    "my_list = input('Enter a comma separated string: ').split(\",\")\n",
    "my_list.sort(key=my_func)\n",
    "print(\",\".join(my_list))"
   ]
  },
  {
   "cell_type": "markdown",
   "id": "d06cb6a2",
   "metadata": {},
   "source": [
    "Write a program that accepts a sequence of whitespace separated words as input and prints the words after removing all duplicate words and sorting them alphanumerically."
   ]
  },
  {
   "cell_type": "code",
   "execution_count": 37,
   "id": "61317378",
   "metadata": {},
   "outputs": [
    {
     "name": "stdout",
     "output_type": "stream",
     "text": [
      "hello world and practice makes perfect and hello world again\n",
      "again and hello makes perfect practice world\n"
     ]
    }
   ],
   "source": [
    "word = input().split()\n",
    "\n",
    "for i in word:\n",
    "    if word.count(i) > 1:\n",
    "        word.remove(i)\n",
    "word.sort()\n",
    "print(\" \".join(word))"
   ]
  },
  {
   "cell_type": "code",
   "execution_count": 40,
   "id": "0d353c4b",
   "metadata": {},
   "outputs": [
    {
     "name": "stdout",
     "output_type": "stream",
     "text": [
      "hello world and practice makes perfect and hello world again\n",
      "again and hello makes perfect practice world\n"
     ]
    }
   ],
   "source": [
    "s = input()\n",
    "words = [word for word in s.split(\" \")]\n",
    "print(\" \".join(sorted(list(set(words)))))"
   ]
  },
  {
   "cell_type": "code",
   "execution_count": 41,
   "id": "f7e6ccbf",
   "metadata": {},
   "outputs": [
    {
     "name": "stdout",
     "output_type": "stream",
     "text": [
      "hello world and practice makes perfect and hello world again\n",
      "again and hello makes perfect practice world\n"
     ]
    }
   ],
   "source": [
    "word = input().split()\n",
    "[word.remove(i) for i in word if word.count(i) > 1 ]   # removal operation with comprehension method\n",
    "word.sort()\n",
    "print(\" \".join(word))"
   ]
  },
  {
   "cell_type": "code",
   "execution_count": 42,
   "id": "ab102851",
   "metadata": {},
   "outputs": [
    {
     "name": "stdout",
     "output_type": "stream",
     "text": [
      "hello world and practice makes perfect and hello world again\n",
      "again and hello makes perfect practice world\n"
     ]
    }
   ],
   "source": [
    "word = sorted(list(set(input().split())))              #  input string splits -> converting into set() to store unique\n",
    "                                                       #  element -> converting into list to be able to apply sort\n",
    "print(\" \".join(word))"
   ]
  },
  {
   "cell_type": "code",
   "execution_count": 43,
   "id": "59b14d34",
   "metadata": {},
   "outputs": [
    {
     "name": "stdout",
     "output_type": "stream",
     "text": [
      "Enter string: hello world and practice makes perfect and hello world again\n",
      "again and hello makes perfect practice world\n"
     ]
    }
   ],
   "source": [
    "inp_string = input(\"Enter string: \").split()\n",
    "out_string = []\n",
    "for words in inp_string:\n",
    "    if words not in out_string:\n",
    "        out_string.append(words)\n",
    "print(\" \".join(sorted(out_string)))"
   ]
  },
  {
   "cell_type": "markdown",
   "id": "b067e39e",
   "metadata": {},
   "source": [
    "Write a program which accepts a sequence of comma separated 4 digit binary numbers as its input and then check whether they are divisible by 5 or not. The numbers that are divisible by 5 are to be printed in a comma separated sequence.\n",
    "\n",
    "Example:0100,0011,1010,1001\n",
    "Then the output should be:\n",
    "\n",
    "1010"
   ]
  },
  {
   "cell_type": "code",
   "execution_count": 44,
   "id": "640ca9db",
   "metadata": {},
   "outputs": [
    {
     "name": "stdout",
     "output_type": "stream",
     "text": [
      "0100,0011,1010,1001\n",
      "1010\n"
     ]
    }
   ],
   "source": [
    "def check(x):                   # check function returns true if divisible by 5\n",
    "    return int(x,2)%5 == 0      # int(x,b) takes x as string and b as base from which\n",
    "                                # it will be converted to decimal\n",
    "data = input().split(',')\n",
    "\n",
    "data = list(filter(check,data)) # in filter(func,object) function, elements are picked from 'data' if found True by 'check' function\n",
    "print(\",\".join(data))"
   ]
  },
  {
   "cell_type": "code",
   "execution_count": 46,
   "id": "564f113c",
   "metadata": {},
   "outputs": [
    {
     "name": "stdout",
     "output_type": "stream",
     "text": [
      "0100,0011,1010,1001\n",
      "1010\n"
     ]
    }
   ],
   "source": [
    "data = input().split(',')\n",
    "data = list(filter(lambda i:int(i,2)%5==0,data))    # lambda is an operator that helps to write function of one line\n",
    "print(\",\".join(data))"
   ]
  },
  {
   "cell_type": "code",
   "execution_count": 47,
   "id": "4e05dd81",
   "metadata": {},
   "outputs": [
    {
     "name": "stdout",
     "output_type": "stream",
     "text": [
      "0100,0011,1010,1001\n",
      "1010\n"
     ]
    }
   ],
   "source": [
    "data = input().split(',')\n",
    "data = [num for num in data if int(num, 2) % 5 == 0]\n",
    "print(','.join(data))"
   ]
  },
  {
   "cell_type": "markdown",
   "id": "3e6b80ee",
   "metadata": {},
   "source": [
    "Write a program that accepts a sentence and calculate the number of letters and digits.\n",
    "Suppose the following input is supplied to the program:\n",
    "\n",
    "hello world! 123\n",
    "Then, the output should be:\n",
    "\n",
    "LETTERS 10\n",
    "DIGITS 3"
   ]
  },
  {
   "cell_type": "code",
   "execution_count": 48,
   "id": "4c552bb8",
   "metadata": {},
   "outputs": [
    {
     "name": "stdout",
     "output_type": "stream",
     "text": [
      "hello world! 123\n",
      "LETTERS 10\n",
      "DIGITS 3\n"
     ]
    }
   ],
   "source": [
    "word = input()\n",
    "letter,digit = 0,0\n",
    "\n",
    "for i in word:\n",
    "    if ('a'<=i and i<='z') or ('A'<=i and i<='Z'):\n",
    "        letter+=1\n",
    "    if '0'<=i and i<='9':\n",
    "        digit+=1\n",
    "\n",
    "print(\"LETTERS {0}\\nDIGITS {1}\".format(letter,digit))"
   ]
  },
  {
   "cell_type": "code",
   "execution_count": 52,
   "id": "b5d16e0f",
   "metadata": {},
   "outputs": [
    {
     "name": "stdout",
     "output_type": "stream",
     "text": [
      "hello world! 123\n",
      "LETTERS 10\n",
      "DIGITS3\n"
     ]
    }
   ],
   "source": [
    "word = input()\n",
    "letter, digit = 0,0\n",
    "\n",
    "for i in word:\n",
    "    if i.isalpha(): # returns True if alphabet\n",
    "        letter += 1\n",
    "    elif i.isnumeric(): # returns True if numeric\n",
    "        digit += 1\n",
    "print(f\"LETTERS {letter}\\nDIGITS {digit}\") # two different types of formating method is shown in both solution"
   ]
  },
  {
   "cell_type": "code",
   "execution_count": 54,
   "id": "09e91938",
   "metadata": {},
   "outputs": [
    {
     "name": "stdout",
     "output_type": "stream",
     "text": [
      "hello world! 123\n",
      "LETTERS : 10 \n",
      "DIGITS : 3\n"
     ]
    }
   ],
   "source": [
    "sen = input(\"\").split(\" \")\n",
    "alp, digit = 0, 0\n",
    "\n",
    "for item in sen:\n",
    "    lst = [char for char in item]\n",
    "    for j in lst:\n",
    "        if 64 < ord(j) < 123:\n",
    "            alp += 1\n",
    "        if j.isdigit():\n",
    "            digit += 1\n",
    "print(f\"LETTERS : {alp} \\nDIGITS : {digit}\")"
   ]
  },
  {
   "cell_type": "code",
   "execution_count": null,
   "id": "a0f0ac9e",
   "metadata": {},
   "outputs": [],
   "source": []
  }
 ],
 "metadata": {
  "kernelspec": {
   "display_name": "Python 3 (ipykernel)",
   "language": "python",
   "name": "python3"
  },
  "language_info": {
   "codemirror_mode": {
    "name": "ipython",
    "version": 3
   },
   "file_extension": ".py",
   "mimetype": "text/x-python",
   "name": "python",
   "nbconvert_exporter": "python",
   "pygments_lexer": "ipython3",
   "version": "3.10.9"
  }
 },
 "nbformat": 4,
 "nbformat_minor": 5
}
